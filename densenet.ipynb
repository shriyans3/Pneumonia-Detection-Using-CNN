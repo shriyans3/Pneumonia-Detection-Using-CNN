{
 "cells": [
  {
   "cell_type": "code",
   "execution_count": 2,
   "metadata": {
    "execution": {
     "iopub.execute_input": "2024-01-31T18:21:20.779836Z",
     "iopub.status.busy": "2024-01-31T18:21:20.779088Z",
     "iopub.status.idle": "2024-01-31T18:21:21.642801Z",
     "shell.execute_reply": "2024-01-31T18:21:21.642004Z",
     "shell.execute_reply.started": "2024-01-31T18:21:20.779803Z"
    }
   },
   "outputs": [],
   "source": [
    "import warnings\n",
    "warnings.filterwarnings('ignore')\n",
    "\n",
    "import os\n",
    "import pandas as pd\n",
    "import numpy as np\n",
    "import matplotlib.pyplot as plt\n",
    "%matplotlib inline\n",
    "from sklearn.metrics import classification_report , confusion_matrix , accuracy_score\n",
    "from sklearn.model_selection import train_test_split\n",
    "\n",
    "import cv2\n",
    "from PIL import Image\n",
    "import tensorflow as tf\n",
    "from tensorflow import keras\n",
    "from keras import Sequential\n",
    "from keras.layers import Input, Dense,Conv2D , MaxPooling2D, Flatten,BatchNormalization,Dropout\n",
    "from tensorflow.keras.preprocessing import image_dataset_from_directory\n",
    "import tensorflow_hub as hub\n",
    "from tensorflow.keras.preprocessing.image import ImageDataGenerator"
   ]
  },
  {
   "cell_type": "code",
   "execution_count": 3,
   "metadata": {
    "execution": {
     "iopub.execute_input": "2024-01-31T18:21:25.319956Z",
     "iopub.status.busy": "2024-01-31T18:21:25.319226Z",
     "iopub.status.idle": "2024-01-31T18:21:25.795273Z",
     "shell.execute_reply": "2024-01-31T18:21:25.794084Z",
     "shell.execute_reply.started": "2024-01-31T18:21:25.319924Z"
    }
   },
   "outputs": [
    {
     "name": "stdout",
     "output_type": "stream",
     "text": [
      "1341\n",
      "3875\n"
     ]
    }
   ],
   "source": [
    "folder_path_no = \"/kaggle/input/chest-xray-pneumonia/chest_xray/train/NORMAL\"\n",
    "folder_path_yes = \"/kaggle/input/chest-xray-pneumonia/chest_xray/train/PNEUMONIA\"\n",
    "\n",
    "folder_no = os.listdir(folder_path_no)\n",
    "folder_yes = os.listdir(folder_path_yes)\n",
    "\n",
    "print(len(folder_no))\n",
    "print(len(folder_yes))"
   ]
  },
  {
   "cell_type": "code",
   "execution_count": 4,
   "metadata": {
    "execution": {
     "iopub.execute_input": "2024-01-31T18:21:29.157165Z",
     "iopub.status.busy": "2024-01-31T18:21:29.156788Z",
     "iopub.status.idle": "2024-01-31T18:22:59.356801Z",
     "shell.execute_reply": "2024-01-31T18:22:59.355923Z",
     "shell.execute_reply.started": "2024-01-31T18:21:29.157134Z"
    }
   },
   "outputs": [],
   "source": [
    "from sklearn.utils import shuffle\n",
    "import numpy as np\n",
    "from tensorflow.keras.preprocessing.image import ImageDataGenerator, img_to_array, load_img\n",
    "\n",
    "path_no = \"/kaggle/input/chest-xray-pneumonia/chest_xray/train/NORMAL/\"\n",
    "path_yes = \"/kaggle/input/chest-xray-pneumonia/chest_xray/train/PNEUMONIA/\"\n",
    "\n",
    "img_width, img_height = 224, 224\n",
    "\n",
    "\n",
    "data_no = np.array([img_to_array(load_img(path_no + img, target_size=(img_width, img_height))) for img in os.listdir(path_no)])\n",
    "data_yes = np.array([img_to_array(load_img(path_yes + img, target_size=(img_width, img_height))) for img in os.listdir(path_yes)])\n",
    "\n",
    "labels_no = np.zeros(len(data_no))\n",
    "labels_yes = np.ones(len(data_yes))\n",
    "\n",
    "data = np.concatenate([data_no, data_yes])\n",
    "labels = np.concatenate([labels_no, labels_yes])\n",
    "\n",
    "data, labels = shuffle(data, labels, random_state=42)\n",
    "data_train=data/255.0"
   ]
  },
  {
   "cell_type": "code",
   "execution_count": 5,
   "metadata": {
    "execution": {
     "iopub.execute_input": "2024-01-31T18:22:59.358573Z",
     "iopub.status.busy": "2024-01-31T18:22:59.358267Z",
     "iopub.status.idle": "2024-01-31T18:22:59.533434Z",
     "shell.execute_reply": "2024-01-31T18:22:59.532402Z",
     "shell.execute_reply.started": "2024-01-31T18:22:59.358549Z"
    }
   },
   "outputs": [
    {
     "name": "stdout",
     "output_type": "stream",
     "text": [
      "234\n",
      "390\n"
     ]
    }
   ],
   "source": [
    "folder_path_test_normal = \"/kaggle/input/chest-xray-pneumonia/chest_xray/test/NORMAL/\"\n",
    "folder_path_test_pneumonia = \"/kaggle/input/chest-xray-pneumonia/chest_xray/test/PNEUMONIA/\"\n",
    "\n",
    "folder_test_no = os.listdir(folder_path_test_normal)\n",
    "folder_test_yes = os.listdir(folder_path_test_pneumonia)\n",
    "\n",
    "print(len(folder_test_no))\n",
    "print(len(folder_test_yes))"
   ]
  },
  {
   "cell_type": "code",
   "execution_count": 6,
   "metadata": {
    "execution": {
     "iopub.execute_input": "2024-01-31T18:23:23.097606Z",
     "iopub.status.busy": "2024-01-31T18:23:23.096845Z",
     "iopub.status.idle": "2024-01-31T18:23:23.102639Z",
     "shell.execute_reply": "2024-01-31T18:23:23.101737Z",
     "shell.execute_reply.started": "2024-01-31T18:23:23.097571Z"
    }
   },
   "outputs": [
    {
     "name": "stdout",
     "output_type": "stream",
     "text": [
      "624\n"
     ]
    }
   ],
   "source": [
    "test_no_label = [0]*len(folder_test_no)\n",
    "test_yes_label = [1]*len(folder_test_yes)\n",
    "test_labels = test_no_label + test_yes_label\n",
    "print(len(test_labels))"
   ]
  },
  {
   "cell_type": "code",
   "execution_count": 7,
   "metadata": {
    "execution": {
     "iopub.execute_input": "2024-01-31T18:23:24.590947Z",
     "iopub.status.busy": "2024-01-31T18:23:24.590302Z",
     "iopub.status.idle": "2024-01-31T18:23:33.259532Z",
     "shell.execute_reply": "2024-01-31T18:23:33.258627Z",
     "shell.execute_reply.started": "2024-01-31T18:23:24.590912Z"
    }
   },
   "outputs": [],
   "source": [
    "path_no = \"/kaggle/input/chest-xray-pneumonia/chest_xray/test/NORMAL/\"\n",
    "path_yes = \"/kaggle/input/chest-xray-pneumonia/chest_xray/test/PNEUMONIA/\"\n",
    "\n",
    "img_width, img_height = 224, 224\n",
    "\n",
    "datagen = ImageDataGenerator(rescale=1./255)\n",
    "\n",
    "data_no = np.array([img_to_array(load_img(path_no + img, target_size=(img_width, img_height))) for img in os.listdir(path_no)])\n",
    "data_yes = np.array([img_to_array(load_img(path_yes + img, target_size=(img_width, img_height))) for img in os.listdir(path_yes)])\n",
    "\n",
    "labels_no = np.zeros(len(data_no))\n",
    "labels_yes = np.ones(len(data_yes))\n",
    "\n",
    "data_test = np.concatenate([data_no, data_yes])\n",
    "labels_test = np.concatenate([labels_no, labels_yes])\n",
    "\n",
    "data_test_shuffled, labels_test_shuffled = shuffle(data_test, labels_test, random_state=42)"
   ]
  },
  {
   "cell_type": "code",
   "execution_count": 8,
   "metadata": {
    "execution": {
     "iopub.execute_input": "2024-01-31T18:23:33.261484Z",
     "iopub.status.busy": "2024-01-31T18:23:33.261162Z",
     "iopub.status.idle": "2024-01-31T18:23:33.369776Z",
     "shell.execute_reply": "2024-01-31T18:23:33.368938Z",
     "shell.execute_reply.started": "2024-01-31T18:23:33.261459Z"
    }
   },
   "outputs": [],
   "source": [
    "data_test_normalised=data_test_shuffled/255.0"
   ]
  },
  {
   "cell_type": "code",
   "execution_count": 9,
   "metadata": {
    "execution": {
     "iopub.execute_input": "2024-01-31T16:39:03.468565Z",
     "iopub.status.busy": "2024-01-31T16:39:03.467866Z",
     "iopub.status.idle": "2024-01-31T16:39:03.476066Z",
     "shell.execute_reply": "2024-01-31T16:39:03.474964Z",
     "shell.execute_reply.started": "2024-01-31T16:39:03.468530Z"
    }
   },
   "outputs": [
    {
     "data": {
      "text/plain": [
       "(5216, 224, 224, 3)"
      ]
     },
     "execution_count": 9,
     "metadata": {},
     "output_type": "execute_result"
    }
   ],
   "source": [
    "data.shape"
   ]
  },
  {
   "cell_type": "code",
   "execution_count": 10,
   "metadata": {
    "execution": {
     "iopub.execute_input": "2024-01-31T16:39:06.574634Z",
     "iopub.status.busy": "2024-01-31T16:39:06.574283Z",
     "iopub.status.idle": "2024-01-31T16:39:06.580771Z",
     "shell.execute_reply": "2024-01-31T16:39:06.579805Z",
     "shell.execute_reply.started": "2024-01-31T16:39:06.574605Z"
    }
   },
   "outputs": [
    {
     "data": {
      "text/plain": [
       "(624, 224, 224, 3)"
      ]
     },
     "execution_count": 10,
     "metadata": {},
     "output_type": "execute_result"
    }
   ],
   "source": [
    "data_test_normalised.shape"
   ]
  },
  {
   "cell_type": "code",
   "execution_count": 9,
   "metadata": {
    "execution": {
     "iopub.execute_input": "2024-01-31T18:23:33.371102Z",
     "iopub.status.busy": "2024-01-31T18:23:33.370812Z",
     "iopub.status.idle": "2024-01-31T18:23:34.624542Z",
     "shell.execute_reply": "2024-01-31T18:23:34.623723Z",
     "shell.execute_reply.started": "2024-01-31T18:23:33.371077Z"
    }
   },
   "outputs": [],
   "source": [
    "x_train, x_val, y_train, y_val = train_test_split(data_train, labels, test_size=0.2, random_state=42)\n",
    "x_test = np.concatenate([x_val, data_test_normalised])\n",
    "y_test = np.concatenate([y_val, labels_test_shuffled])"
   ]
  },
  {
   "cell_type": "code",
   "execution_count": 16,
   "metadata": {
    "execution": {
     "iopub.execute_input": "2024-01-31T19:26:50.969366Z",
     "iopub.status.busy": "2024-01-31T19:26:50.968238Z",
     "iopub.status.idle": "2024-01-31T19:38:45.849132Z",
     "shell.execute_reply": "2024-01-31T19:38:45.848152Z",
     "shell.execute_reply.started": "2024-01-31T19:26:50.969321Z"
    }
   },
   "outputs": [
    {
     "name": "stdout",
     "output_type": "stream",
     "text": [
      "Model: \"sequential_7\"\n",
      "_________________________________________________________________\n",
      " Layer (type)                Output Shape              Param #   \n",
      "=================================================================\n",
      " densenet121 (Functional)    (None, 7, 7, 1024)        7037504   \n",
      "                                                                 \n",
      " flatten_7 (Flatten)         (None, 50176)             0         \n",
      "                                                                 \n",
      " dense_15 (Dense)            (None, 128)               6422656   \n",
      "                                                                 \n",
      " dropout_8 (Dropout)         (None, 128)               0         \n",
      "                                                                 \n",
      " dense_16 (Dense)            (None, 1)                 129       \n",
      "                                                                 \n",
      "=================================================================\n",
      "Total params: 13460289 (51.35 MB)\n",
      "Trainable params: 6422785 (24.50 MB)\n",
      "Non-trainable params: 7037504 (26.85 MB)\n",
      "_________________________________________________________________\n",
      "Epoch 1/50\n",
      "66/66 [==============================] - 27s 310ms/step - loss: 2.2821 - accuracy: 0.9137 - val_loss: 1.8408 - val_accuracy: 0.9257\n",
      "Epoch 2/50\n",
      "66/66 [==============================] - 16s 244ms/step - loss: 1.4785 - accuracy: 0.9605 - val_loss: 1.4538 - val_accuracy: 0.9029\n",
      "Epoch 3/50\n",
      "66/66 [==============================] - 16s 244ms/step - loss: 1.0956 - accuracy: 0.9806 - val_loss: 1.1999 - val_accuracy: 0.9155\n",
      "Epoch 4/50\n",
      "66/66 [==============================] - 16s 242ms/step - loss: 0.9009 - accuracy: 0.9844 - val_loss: 1.0768 - val_accuracy: 0.9125\n",
      "Epoch 5/50\n",
      "66/66 [==============================] - 16s 241ms/step - loss: 0.7822 - accuracy: 0.9871 - val_loss: 0.9567 - val_accuracy: 0.9215\n",
      "Epoch 6/50\n",
      "66/66 [==============================] - 16s 239ms/step - loss: 0.6916 - accuracy: 0.9904 - val_loss: 0.9605 - val_accuracy: 0.9113\n",
      "Epoch 7/50\n",
      "66/66 [==============================] - 16s 240ms/step - loss: 0.6253 - accuracy: 0.9926 - val_loss: 0.9583 - val_accuracy: 0.9077\n",
      "Epoch 8/50\n",
      "66/66 [==============================] - 16s 243ms/step - loss: 0.5721 - accuracy: 0.9919 - val_loss: 0.9253 - val_accuracy: 0.9041\n",
      "Epoch 9/50\n",
      "66/66 [==============================] - 16s 242ms/step - loss: 0.5251 - accuracy: 0.9919 - val_loss: 0.7418 - val_accuracy: 0.9251\n",
      "Epoch 10/50\n",
      "66/66 [==============================] - 16s 240ms/step - loss: 0.4769 - accuracy: 0.9954 - val_loss: 0.7736 - val_accuracy: 0.9113\n",
      "Epoch 11/50\n",
      "66/66 [==============================] - 16s 239ms/step - loss: 0.4436 - accuracy: 0.9940 - val_loss: 0.8920 - val_accuracy: 0.8951\n",
      "Epoch 12/50\n",
      "66/66 [==============================] - 16s 242ms/step - loss: 0.4065 - accuracy: 0.9964 - val_loss: 0.6840 - val_accuracy: 0.9149\n",
      "Epoch 13/50\n",
      "66/66 [==============================] - 16s 240ms/step - loss: 0.3724 - accuracy: 0.9983 - val_loss: 0.7435 - val_accuracy: 0.9125\n",
      "Epoch 14/50\n",
      "66/66 [==============================] - 16s 240ms/step - loss: 0.3469 - accuracy: 0.9981 - val_loss: 0.7104 - val_accuracy: 0.9107\n",
      "Epoch 15/50\n",
      "66/66 [==============================] - 16s 243ms/step - loss: 0.3229 - accuracy: 0.9976 - val_loss: 0.6813 - val_accuracy: 0.9173\n",
      "Epoch 16/50\n",
      "66/66 [==============================] - 16s 240ms/step - loss: 0.3015 - accuracy: 0.9976 - val_loss: 0.7188 - val_accuracy: 0.9059\n",
      "Epoch 17/50\n",
      "66/66 [==============================] - 16s 242ms/step - loss: 0.2802 - accuracy: 0.9981 - val_loss: 0.6064 - val_accuracy: 0.9233\n",
      "Epoch 18/50\n",
      "66/66 [==============================] - 16s 242ms/step - loss: 0.2611 - accuracy: 0.9988 - val_loss: 0.5810 - val_accuracy: 0.9281\n",
      "Epoch 19/50\n",
      "66/66 [==============================] - 16s 240ms/step - loss: 0.2444 - accuracy: 0.9978 - val_loss: 0.6253 - val_accuracy: 0.9149\n",
      "Epoch 20/50\n",
      "66/66 [==============================] - 16s 243ms/step - loss: 0.2320 - accuracy: 0.9966 - val_loss: 0.5494 - val_accuracy: 0.9239\n",
      "Epoch 21/50\n",
      "66/66 [==============================] - 16s 240ms/step - loss: 0.2222 - accuracy: 0.9954 - val_loss: 0.5566 - val_accuracy: 0.9251\n",
      "Epoch 22/50\n",
      "66/66 [==============================] - 16s 239ms/step - loss: 0.2073 - accuracy: 0.9966 - val_loss: 0.6020 - val_accuracy: 0.9125\n",
      "Epoch 23/50\n",
      "66/66 [==============================] - 16s 240ms/step - loss: 0.1884 - accuracy: 0.9998 - val_loss: 0.6425 - val_accuracy: 0.9107\n",
      "Epoch 24/50\n",
      "66/66 [==============================] - 16s 240ms/step - loss: 0.1809 - accuracy: 0.9974 - val_loss: 0.7357 - val_accuracy: 0.8891\n",
      "Epoch 25/50\n",
      "66/66 [==============================] - 16s 242ms/step - loss: 0.1711 - accuracy: 0.9974 - val_loss: 0.5089 - val_accuracy: 0.9263\n",
      "Epoch 26/50\n",
      "66/66 [==============================] - 16s 240ms/step - loss: 0.1691 - accuracy: 0.9945 - val_loss: 0.5856 - val_accuracy: 0.9125\n",
      "Epoch 27/50\n",
      "66/66 [==============================] - 16s 243ms/step - loss: 0.1583 - accuracy: 0.9950 - val_loss: 0.4794 - val_accuracy: 0.9191\n",
      "Epoch 28/50\n",
      "66/66 [==============================] - 16s 240ms/step - loss: 0.1506 - accuracy: 0.9964 - val_loss: 0.7194 - val_accuracy: 0.8933\n",
      "Epoch 29/50\n",
      "66/66 [==============================] - 16s 240ms/step - loss: 0.1440 - accuracy: 0.9964 - val_loss: 0.5612 - val_accuracy: 0.9071\n",
      "Epoch 30/50\n",
      "66/66 [==============================] - 16s 240ms/step - loss: 0.1418 - accuracy: 0.9940 - val_loss: 0.4931 - val_accuracy: 0.9167\n",
      "Epoch 31/50\n",
      "66/66 [==============================] - 16s 240ms/step - loss: 0.1260 - accuracy: 0.9990 - val_loss: 0.6240 - val_accuracy: 0.9059\n",
      "Epoch 32/50\n",
      "66/66 [==============================] - 16s 243ms/step - loss: 0.1246 - accuracy: 0.9954 - val_loss: 0.4027 - val_accuracy: 0.9269\n",
      "Epoch 33/50\n",
      "66/66 [==============================] - 16s 243ms/step - loss: 0.1162 - accuracy: 0.9974 - val_loss: 0.3618 - val_accuracy: 0.9305\n",
      "Epoch 34/50\n",
      "66/66 [==============================] - 16s 240ms/step - loss: 0.1193 - accuracy: 0.9935 - val_loss: 0.4156 - val_accuracy: 0.9275\n",
      "Epoch 35/50\n",
      "66/66 [==============================] - 16s 240ms/step - loss: 0.1095 - accuracy: 0.9978 - val_loss: 0.5894 - val_accuracy: 0.9089\n",
      "Epoch 36/50\n",
      "66/66 [==============================] - 16s 240ms/step - loss: 0.1086 - accuracy: 0.9950 - val_loss: 0.5783 - val_accuracy: 0.9011\n",
      "Epoch 37/50\n",
      "66/66 [==============================] - 16s 239ms/step - loss: 0.0966 - accuracy: 0.9986 - val_loss: 0.4552 - val_accuracy: 0.9233\n",
      "Epoch 38/50\n",
      "66/66 [==============================] - 16s 241ms/step - loss: 0.0958 - accuracy: 0.9966 - val_loss: 0.4381 - val_accuracy: 0.9221\n",
      "Epoch 39/50\n",
      "66/66 [==============================] - 16s 244ms/step - loss: 0.0953 - accuracy: 0.9969 - val_loss: 0.5066 - val_accuracy: 0.9095\n"
     ]
    },
    {
     "data": {
      "image/png": "[encoded data removed]",
      "text/plain": [
       "<Figure size 1000x600 with 1 Axes>"
      ]
     },
     "metadata": {},
     "output_type": "display_data"
    },
    {
     "name": "stdout",
     "output_type": "stream",
     "text": [
      "53/53 [==============================] - 5s 88ms/step - loss: 0.3618 - accuracy: 0.9305\n",
      "Test Loss: 0.3618\n",
      "Test Accuracy: 93.05%\n",
      "53/53 [==============================] - 6s 86ms/step\n",
      "\n",
      "Classification Report:\n",
      "              precision    recall  f1-score   support\n",
      "\n",
      "         0.0       0.92      0.85      0.88       519\n",
      "         1.0       0.94      0.97      0.95      1149\n",
      "\n",
      "    accuracy                           0.93      1668\n",
      "   macro avg       0.93      0.91      0.92      1668\n",
      "weighted avg       0.93      0.93      0.93      1668\n",
      "\n"
     ]
    },
    {
     "data": {
      "image/png": "[encoded data removed]",
      "text/plain": [
       "<Figure size 800x600 with 2 Axes>"
      ]
     },
     "metadata": {},
     "output_type": "display_data"
    }
   ],
   "source": [
    "from tensorflow.keras.applications import DenseNet121\n",
    "from tensorflow.keras.models import Sequential\n",
    "from tensorflow.keras.layers import Flatten, Dense, Dropout\n",
    "from tensorflow.keras.optimizers import Adam\n",
    "from tensorflow.keras.callbacks import EarlyStopping\n",
    "from tensorflow.keras import regularizers\n",
    "import matplotlib.pyplot as plt\n",
    "from sklearn.metrics import classification_report, confusion_matrix\n",
    "import seaborn as sns\n",
    "import numpy as np\n",
    "\n",
    "pre_trained_model = DenseNet121(weights='imagenet', include_top=False, input_shape=(224, 224, 3))\n",
    "\n",
    "for layer in pre_trained_model.layers:\n",
    "    layer.trainable = False\n",
    "\n",
    "model = Sequential()\n",
    "\n",
    "model.add(pre_trained_model)\n",
    "\n",
    "model.add(Flatten())\n",
    "\n",
    "model.add(Dense(128, activation='relu', kernel_regularizer=regularizers.l2(0.01)))\n",
    "model.add(Dropout(0.5))\n",
    "\n",
    "\n",
    "model.add(Dense(1, activation='sigmoid'))\n",
    "\n",
    "early_stopping = EarlyStopping(\n",
    "    monitor='val_loss',\n",
    "    patience=6,\n",
    "    restore_best_weights=True\n",
    ")\n",
    "\n",
    "model.compile(optimizer=Adam(learning_rate=0.00005), loss='binary_crossentropy', metrics=['accuracy'])\n",
    "\n",
    "model.summary()\n",
    "\n",
    "history = model.fit(\n",
    "    x_train, y_train,\n",
    "    epochs=50,\n",
    "    batch_size=64,\n",
    "    shuffle=True,\n",
    "    validation_data=(x_test, y_test),\n",
    "    callbacks=[early_stopping]\n",
    ")\n",
    "\n",
    "plt.figure(figsize=(10, 6))\n",
    "plt.plot(history.history['loss'], label='Training Loss')\n",
    "plt.plot(history.history['val_loss'], label='Validation Loss')\n",
    "plt.title('Training Loss vs Validation Loss')\n",
    "plt.xlabel('Epoch')\n",
    "plt.ylabel('Loss')\n",
    "plt.legend()\n",
    "plt.show()\n",
    "\n",
    "test_loss, test_accuracy = model.evaluate(x_test, y_test)\n",
    "print(f\"Test Loss: {test_loss:.4f}\")\n",
    "print(f\"Test Accuracy: {test_accuracy * 100:.2f}%\")\n",
    "\n",
    "y_pred = model.predict(x_test)\n",
    "y_pred_classes = np.round(y_pred)\n",
    "\n",
    "print(\"\\nClassification Report:\")\n",
    "print(classification_report(y_test, y_pred_classes))\n",
    "\n",
    "conf_matrix = confusion_matrix(y_test, y_pred_classes)\n",
    "plt.figure(figsize=(8, 6))\n",
    "sns.heatmap(conf_matrix, annot=True, fmt='d', cmap='Blues', xticklabels=['0', '1'], yticklabels=['0', '1'])\n",
    "plt.title('Confusion Matrix')\n",
    "plt.xlabel('Predicted Label')\n",
    "plt.ylabel('True Label')\n",
    "plt.show()\n"
   ]
  },
  {
   "cell_type": "code",
   "execution_count": null,
   "metadata": {},
   "outputs": [],
   "source": []
  }
 ],
 "metadata": {
  "kaggle": {
   "accelerator": "nvidiaTeslaT4",
   "dataSources": [
    {
     "datasetId": 17810,
     "sourceId": 23812,
     "sourceType": "datasetVersion"
    }
   ],
   "dockerImageVersionId": 30648,
   "isGpuEnabled": true,
   "isInternetEnabled": true,
   "language": "python",
   "sourceType": "notebook"
  },
  "kernelspec": {
   "display_name": "Python 3 (ipykernel)",
   "language": "python",
   "name": "python3"
  },
  "language_info": {
   "codemirror_mode": {
    "name": "ipython",
    "version": 3
   },
   "file_extension": ".py",
   "mimetype": "text/x-python",
   "name": "python",
   "nbconvert_exporter": "python",
   "pygments_lexer": "ipython3",
   "version": "3.10.9"
  }
 },
 "nbformat": 4,
 "nbformat_minor": 4
}
